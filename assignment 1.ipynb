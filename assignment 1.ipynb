{
 "cells": [
  {
   "cell_type": "code",
   "execution_count": 1,
   "id": "1e9d5eb5-f3d7-41d6-869a-235552a021b7",
   "metadata": {},
   "outputs": [
    {
     "name": "stdout",
     "output_type": "stream",
     "text": [
      "1000000\n"
     ]
    }
   ],
   "source": [
    "samsung_s24 = 1000000\n",
    "print (samsung_s24)"
   ]
  },
  {
   "cell_type": "code",
   "execution_count": 3,
   "id": "3fde5564-3461-4646-9f95-cef0799accd3",
   "metadata": {},
   "outputs": [
    {
     "name": "stdout",
     "output_type": "stream",
     "text": [
      "500\n"
     ]
    }
   ],
   "source": [
    "phone_cover = 500\n",
    "print (phone_cover)"
   ]
  },
  {
   "cell_type": "code",
   "execution_count": 5,
   "id": "d8cd70a4-0123-40bf-a128-e7b17aa84fa1",
   "metadata": {},
   "outputs": [
    {
     "name": "stdout",
     "output_type": "stream",
     "text": [
      "200\n"
     ]
    }
   ],
   "source": [
    "screen_guard = 200\n",
    "print (screen_guard)"
   ]
  },
  {
   "cell_type": "code",
   "execution_count": 7,
   "id": "95895793-9bf9-4591-8cdd-3b6f2032c73d",
   "metadata": {},
   "outputs": [
    {
     "name": "stdout",
     "output_type": "stream",
     "text": [
      "5000\n"
     ]
    }
   ],
   "source": [
    "earbuds = 5000\n",
    "print (earbuds)"
   ]
  },
  {
   "cell_type": "code",
   "execution_count": 9,
   "id": "549f548e-bc9d-4446-857b-3405084b6db2",
   "metadata": {},
   "outputs": [
    {
     "name": "stdout",
     "output_type": "stream",
     "text": [
      "1000\n"
     ]
    }
   ],
   "source": [
    "charger = 1000\n",
    "print (charger)"
   ]
  }
 ],
 "metadata": {
  "kernelspec": {
   "display_name": "Python 3 (ipykernel)",
   "language": "python",
   "name": "python3"
  },
  "language_info": {
   "codemirror_mode": {
    "name": "ipython",
    "version": 3
   },
   "file_extension": ".py",
   "mimetype": "text/x-python",
   "name": "python",
   "nbconvert_exporter": "python",
   "pygments_lexer": "ipython3",
   "version": "3.12.4"
  }
 },
 "nbformat": 4,
 "nbformat_minor": 5
}
